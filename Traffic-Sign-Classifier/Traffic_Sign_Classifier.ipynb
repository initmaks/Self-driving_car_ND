{
 "cells": [
  {
   "cell_type": "markdown",
   "metadata": {
    "deletable": true,
    "editable": true
   },
   "source": [
    "# Self-Driving Car Engineer Nanodegree\n",
    "\n",
    "## Deep Learning\n",
    "\n",
    "## Project: Build a Traffic Sign Recognition Classifier\n",
    "\n",
    "In this notebook, a template is provided for you to implement your functionality in stages, which is required to successfully complete this project. If additional code is required that cannot be included in the notebook, be sure that the Python code is successfully imported and included in your submission if necessary. \n",
    "\n",
    "> **Note**: Once you have completed all of the code implementations, you need to finalize your work by exporting the iPython Notebook as an HTML document. Before exporting the notebook to html, all of the code cells need to have been run so that reviewers can see the final implementation and output. You can then export the notebook by using the menu above and navigating to  \\n\",\n",
    "    \"**File -> Download as -> HTML (.html)**. Include the finished document along with this notebook as your submission. \n",
    "\n",
    "In addition to implementing code, there is a writeup to complete. The writeup should be completed in a separate file, which can be either a markdown file or a pdf document. There is a [write up template](https://github.com/udacity/CarND-Traffic-Sign-Classifier-Project/blob/master/writeup_template.md) that can be used to guide the writing process. Completing the code template and writeup template will cover all of the [rubric points](https://review.udacity.com/#!/rubrics/481/view) for this project.\n",
    "\n",
    "The [rubric](https://review.udacity.com/#!/rubrics/481/view) contains \"Stand Out Suggestions\" for enhancing the project beyond the minimum requirements. The stand out suggestions are optional. If you decide to pursue the \"stand out suggestions\", you can include the code in this Ipython notebook and also discuss the results in the writeup file.\n",
    "\n",
    "\n",
    ">**Note:** Code and Markdown cells can be executed using the **Shift + Enter** keyboard shortcut. In addition, Markdown cells can be edited by typically double-clicking the cell to enter edit mode."
   ]
  },
  {
   "cell_type": "markdown",
   "metadata": {
    "deletable": true,
    "editable": true
   },
   "source": [
    "---\n",
    "## Step 0: Load The Data"
   ]
  },
  {
   "cell_type": "code",
   "execution_count": 1,
   "metadata": {
    "collapsed": false,
    "deletable": true,
    "editable": true
   },
   "outputs": [
    {
     "name": "stdout",
     "output_type": "stream",
     "text": [
      "\u001b[0m\u001b[01;32mcheckpoint\u001b[0m*                            \u001b[01;32mtraffic_model.data-00000-of-00001\u001b[0m*\r\n",
      "\u001b[34;42mexamples\u001b[0m/                              \u001b[01;32mtraffic_model.index\u001b[0m*\r\n",
      "\u001b[01;32mREADME.md\u001b[0m*                             \u001b[01;32mtraffic_model.meta\u001b[0m*\r\n",
      "\u001b[01;32msignnames.csv\u001b[0m*                         \u001b[01;32mTraffic_Sign_Classifier.ipynb\u001b[0m*\r\n",
      "\u001b[01;32mtraffic-class_03.data-00000-of-00001\u001b[0m*  \u001b[34;42mtraffic-signs-data\u001b[0m/\r\n",
      "\u001b[01;32mtraffic-class_03.index\u001b[0m*                \u001b[01;32mvisualize_cnn.png\u001b[0m*\r\n",
      "\u001b[01;32mtraffic-class_03.meta\u001b[0m*                 \u001b[01;32mwriteup_template.md\u001b[0m*\r\n",
      "\u001b[01;32mtraffic-class.data-00000-of-00001\u001b[0m*     \u001b[01;32mX_train.npy\u001b[0m*\r\n",
      "\u001b[01;32mtraffic-class.index\u001b[0m*                   \u001b[01;32my_train.npy\u001b[0m*\r\n",
      "\u001b[01;32mtraffic-class.meta\u001b[0m*\r\n"
     ]
    }
   ],
   "source": [
    "ls"
   ]
  },
  {
   "cell_type": "code",
   "execution_count": 2,
   "metadata": {
    "collapsed": false,
    "deletable": true,
    "editable": true
   },
   "outputs": [],
   "source": [
    "# Load pickled data\n",
    "import pickle\n",
    "\n",
    "folder_name = 'traffic-signs-data/'\n",
    "\n",
    "training_file = folder_name + 'train.p'\n",
    "validation_file= folder_name + 'valid.p'\n",
    "testing_file = folder_name + 'test.p'\n",
    "\n",
    "with open(training_file, mode='rb') as f:\n",
    "    train = pickle.load(f)\n",
    "with open(validation_file, mode='rb') as f:\n",
    "    valid = pickle.load(f)\n",
    "with open(testing_file, mode='rb') as f:\n",
    "    test = pickle.load(f)\n",
    "    \n",
    "X_train, y_train = train['features'], train['labels']\n",
    "X_valid, y_valid = valid['features'], valid['labels']\n",
    "X_test, y_test = test['features'], test['labels']"
   ]
  },
  {
   "cell_type": "markdown",
   "metadata": {
    "deletable": true,
    "editable": true
   },
   "source": [
    "---\n",
    "\n",
    "## Step 1: Dataset Summary & Exploration\n",
    "\n",
    "The pickled data is a dictionary with 4 key/value pairs:\n",
    "\n",
    "- `'features'` is a 4D array containing raw pixel data of the traffic sign images, (num examples, width, height, channels).\n",
    "- `'labels'` is a 1D array containing the label/class id of the traffic sign. The file `signnames.csv` contains id -> name mappings for each id.\n",
    "- `'sizes'` is a list containing tuples, (width, height) representing the original width and height the image.\n",
    "- `'coords'` is a list containing tuples, (x1, y1, x2, y2) representing coordinates of a bounding box around the sign in the image. **THESE COORDINATES ASSUME THE ORIGINAL IMAGE. THE PICKLED DATA CONTAINS RESIZED VERSIONS (32 by 32) OF THESE IMAGES**\n",
    "\n",
    "Complete the basic data summary below. Use python, numpy and/or pandas methods to calculate the data summary rather than hard coding the results. For example, the [pandas shape method](http://pandas.pydata.org/pandas-docs/stable/generated/pandas.DataFrame.shape.html) might be useful for calculating some of the summary results. "
   ]
  },
  {
   "cell_type": "markdown",
   "metadata": {
    "deletable": true,
    "editable": true
   },
   "source": [
    "### Provide a Basic Summary of the Data Set Using Python, Numpy and/or Pandas"
   ]
  },
  {
   "cell_type": "code",
   "execution_count": 3,
   "metadata": {
    "collapsed": false,
    "deletable": true,
    "editable": true
   },
   "outputs": [],
   "source": [
    "import numpy as np\n",
    "import pandas as pd"
   ]
  },
  {
   "cell_type": "code",
   "execution_count": 4,
   "metadata": {
    "collapsed": false,
    "deletable": true,
    "editable": true,
    "scrolled": true
   },
   "outputs": [
    {
     "name": "stdout",
     "output_type": "stream",
     "text": [
      "Number of training examples = 34799\n",
      "Number of testing examples = 12630\n",
      "Image data shape = (32, 32, 3)\n",
      "Number of classes = 43\n"
     ]
    }
   ],
   "source": [
    "# Number of training examples\n",
    "n_train = X_train.shape[0]\n",
    "\n",
    "# Number of validation examples\n",
    "n_validation = X_valid.shape[0]\n",
    "\n",
    "# Number of testing examples.\n",
    "n_test = X_test.shape[0]\n",
    "\n",
    "# What's the shape of an traffic sign image?\n",
    "image_shape = X_train.shape[1:]\n",
    "\n",
    "# TODO: How many unique classes/labels there are in the dataset.\n",
    "n_classes = len(np.unique(y_train))\n",
    "\n",
    "print(\"Number of training examples =\", n_train)\n",
    "print(\"Number of testing examples =\", n_test)\n",
    "print(\"Image data shape =\", image_shape)\n",
    "print(\"Number of classes =\", n_classes)"
   ]
  },
  {
   "cell_type": "markdown",
   "metadata": {
    "deletable": true,
    "editable": true
   },
   "source": [
    "### Exploratory visualization of the dataset"
   ]
  },
  {
   "cell_type": "code",
   "execution_count": 5,
   "metadata": {
    "collapsed": false,
    "deletable": true,
    "editable": true
   },
   "outputs": [
    {
     "name": "stdout",
     "output_type": "stream",
     "text": [
      "Populating the interactive namespace from numpy and matplotlib\n"
     ]
    },
    {
     "name": "stderr",
     "output_type": "stream",
     "text": [
      "/home/dl/anaconda3/envs/sdc/lib/python3.5/site-packages/IPython/core/magics/pylab.py:161: UserWarning: pylab import has clobbered these variables: ['f', 'test']\n",
      "`%matplotlib` prevents importing * from pylab and numpy\n",
      "  \"\\n`%matplotlib` prevents importing * from pylab and numpy\"\n"
     ]
    }
   ],
   "source": [
    "import matplotlib.pyplot as plt\n",
    "import pandas as pd\n",
    "import numpy as np\n",
    "# Visualizations will be shown in the notebook.\n",
    "%matplotlib inline\n",
    "%pylab inline\n",
    "pylab.rcParams['figure.figsize'] = (12, 6)"
   ]
  },
  {
   "cell_type": "code",
   "execution_count": 6,
   "metadata": {
    "collapsed": true,
    "deletable": true,
    "editable": true
   },
   "outputs": [],
   "source": [
    "from collections import Counter\n",
    "cc = Counter(y_train)\n",
    "x,y = zip(*cc.items())"
   ]
  },
  {
   "cell_type": "code",
   "execution_count": 7,
   "metadata": {
    "collapsed": false,
    "deletable": true,
    "editable": true,
    "scrolled": false
   },
   "outputs": [
    {
     "data": {
      "text/plain": [
       "<Container object of 43 artists>"
      ]
     },
     "execution_count": 7,
     "metadata": {},
     "output_type": "execute_result"
    },
    {
     "data": {
      "image/png": "[encoded data removed]",
      "text/plain": [
       "<matplotlib.figure.Figure at 0x7fbd2cba9eb8>"
      ]
     },
     "metadata": {},
     "output_type": "display_data"
    }
   ],
   "source": [
    "plt.bar(x, y, 0.9)"
   ]
  },
  {
   "cell_type": "markdown",
   "metadata": {
    "collapsed": true,
    "deletable": true,
    "editable": true
   },
   "source": [
    "# Dataset balancing Image Augmentation "
   ]
  },
  {
   "cell_type": "markdown",
   "metadata": {
    "deletable": true,
    "editable": true
   },
   "source": [
    "## Augment data using imgaug library"
   ]
  },
  {
   "cell_type": "code",
   "execution_count": 8,
   "metadata": {
    "collapsed": true,
    "deletable": true,
    "editable": true
   },
   "outputs": [],
   "source": [
    "# Library reference https://github.com/aleju/imgaug"
   ]
  },
  {
   "cell_type": "code",
   "execution_count": 9,
   "metadata": {
    "collapsed": false,
    "deletable": true,
    "editable": true
   },
   "outputs": [],
   "source": [
    "from imgaug import augmenters as iaa\n",
    "import imgaug.imgaug as ia\n",
    "\n",
    "seq = iaa.Sequential([\n",
    "    iaa.Crop(px=(2,2,2,2)), # crop images from each side by 0 to 2 px (randomly chosen)\n",
    "    iaa.Add((-10, 10), per_channel=0.5),\n",
    "    iaa.Multiply((0.8, 1.2), per_channel=0.5),\n",
    "    iaa.Affine(\n",
    "            scale={\"x\": (0.9, 1.1), \"y\": (0.9, 1.1)}, # scale images to 80-120% of their size, individually per axis\n",
    "            translate_px={\"x\": (-2, 2), \"y\": (2, 2)}, # translate by -16 to +16 pixels (per axis)\n",
    "            rotate=(-15, 15), # rotate by -45 to +45 degrees\n",
    "            shear=(-10, 10), # shear by -16 to +16 degrees\n",
    "            order=ia.ALL, # use any of scikit-image's interpolation methods\n",
    "            mode=ia.ALL # use any of scikit-image's warping modes (see 2nd image from the top for examples)\n",
    "        ),\n",
    "])"
   ]
  },
  {
   "cell_type": "code",
   "execution_count": 10,
   "metadata": {
    "collapsed": false,
    "deletable": true,
    "editable": true
   },
   "outputs": [
    {
     "name": "stdout",
     "output_type": "stream",
     "text": [
      "Max number of image per class 2010\n",
      "Desired size of the image per class 7000\n",
      "Minimum expected size of new X matrix 301000\n"
     ]
    }
   ],
   "source": [
    "new_number_images_per_class = 7000\n",
    "\n",
    "print(\"Max number of image per class {}\".format(max(y)))\n",
    "print(\"Desired size of the image per class {}\".format(new_number_images_per_class))\n",
    "print(\"Minimum expected size of new X matrix {}\".format(new_number_images_per_class * len(np.unique(y_train))))\n"
   ]
  },
  {
   "cell_type": "code",
   "execution_count": 11,
   "metadata": {
    "collapsed": true,
    "deletable": true,
    "editable": true
   },
   "outputs": [],
   "source": [
    "# Define new X and Y to store values\n",
    "new_X_train = None\n",
    "new_y_train = None"
   ]
  },
  {
   "cell_type": "code",
   "execution_count": 12,
   "metadata": {
    "collapsed": false,
    "deletable": true,
    "editable": true
   },
   "outputs": [],
   "source": [
    "# Generating new X and y\n",
    "if False:\n",
    "    for index in x: # in every image class\n",
    "        print('Processing index #{}'.format(index))\n",
    "        temp_X_real = X_train[y_train == index].copy()\n",
    "        new_X_matrix = X_train[y_train == index].copy()\n",
    "        while new_X_matrix.shape[0] < new_number_images_per_class:\n",
    "            new_X_matrix = np.concatenate((new_X_matrix,seq.augment_images(temp_X_real)))\n",
    "\n",
    "        if new_X_train is None: # for the first loop\n",
    "            new_X_train = new_X_matrix.copy()\n",
    "            new_y_train = np.empty(new_X_matrix.shape[0])\n",
    "            new_y_train.fill(index)\n",
    "        else:\n",
    "            new_X_train = np.concatenate((new_X_train,new_X_matrix))\n",
    "            new_y_vals = np.empty(new_X_matrix.shape[0])\n",
    "            new_y_vals.fill(index)\n",
    "            new_y_train = np.concatenate((new_y_train,new_y_vals))\n",
    "    # Save result to pickle\n",
    "    np.save('X_train',new_X_train)\n",
    "    np.save('y_train',new_y_train)\n",
    "    print('Pickled the X & y')"
   ]
  },
  {
   "cell_type": "markdown",
   "metadata": {
    "deletable": true,
    "editable": true
   },
   "source": [
    "### Checkpoint Load augmented data"
   ]
  },
  {
   "cell_type": "code",
   "execution_count": 13,
   "metadata": {
    "collapsed": true,
    "deletable": true,
    "editable": true
   },
   "outputs": [],
   "source": [
    "new_X_train = np.load('X_train.npy')\n",
    "new_y_train = np.load('y_train.npy')"
   ]
  },
  {
   "cell_type": "code",
   "execution_count": 14,
   "metadata": {
    "collapsed": false,
    "deletable": true,
    "editable": true
   },
   "outputs": [
    {
     "name": "stdout",
     "output_type": "stream",
     "text": [
      "Number of new labels: 316518\n"
     ]
    }
   ],
   "source": [
    "assert new_y_train.shape[0] == new_X_train.shape[0]\n",
    "\n",
    "print(\"Number of new labels: {}\".format(new_X_train.shape[0]))"
   ]
  },
  {
   "cell_type": "code",
   "execution_count": 15,
   "metadata": {
    "collapsed": true,
    "deletable": true,
    "editable": true
   },
   "outputs": [],
   "source": [
    "X_train, y_train = new_X_train.copy(), new_y_train.copy()"
   ]
  },
  {
   "cell_type": "code",
   "execution_count": 16,
   "metadata": {
    "collapsed": false,
    "deletable": true,
    "editable": true
   },
   "outputs": [
    {
     "data": {
      "text/plain": [
       "<Container object of 43 artists>"
      ]
     },
     "execution_count": 16,
     "metadata": {},
     "output_type": "execute_result"
    },
    {
     "data": {
      "image/png": "[encoded data removed]",
      "text/plain": [
       "<matplotlib.figure.Figure at 0x7fbd1f496588>"
      ]
     },
     "metadata": {},
     "output_type": "display_data"
    }
   ],
   "source": [
    "# Visualize augmented dataset distrubution\n",
    "cc = Counter(y_train)\n",
    "x,y = zip(*cc.items())\n",
    "plt.bar(x,y,0.9)"
   ]
  },
  {
   "cell_type": "markdown",
   "metadata": {
    "deletable": true,
    "editable": true
   },
   "source": [
    "##### Looks better now\n",
    "---"
   ]
  },
  {
   "cell_type": "markdown",
   "metadata": {
    "deletable": true,
    "editable": true
   },
   "source": [
    "## Dataset visualisation"
   ]
  },
  {
   "cell_type": "code",
   "execution_count": 17,
   "metadata": {
    "collapsed": false,
    "deletable": true,
    "editable": true
   },
   "outputs": [
    {
     "name": "stdout",
     "output_type": "stream",
     "text": [
      "ClassId      int64\n",
      "SignName    object\n",
      "dtype: object\n"
     ]
    },
    {
     "data": {
      "text/html": [
       "<div>\n",
       "<table border=\"1\" class=\"dataframe\">\n",
       "  <thead>\n",
       "    <tr style=\"text-align: right;\">\n",
       "      <th></th>\n",
       "      <th>ClassId</th>\n",
       "      <th>SignName</th>\n",
       "    </tr>\n",
       "  </thead>\n",
       "  <tbody>\n",
       "    <tr>\n",
       "      <th>0</th>\n",
       "      <td>0</td>\n",
       "      <td>Speed limit (20km/h)</td>\n",
       "    </tr>\n",
       "    <tr>\n",
       "      <th>1</th>\n",
       "      <td>1</td>\n",
       "      <td>Speed limit (30km/h)</td>\n",
       "    </tr>\n",
       "    <tr>\n",
       "      <th>2</th>\n",
       "      <td>2</td>\n",
       "      <td>Speed limit (50km/h)</td>\n",
       "    </tr>\n",
       "    <tr>\n",
       "      <th>3</th>\n",
       "      <td>3</td>\n",
       "      <td>Speed limit (60km/h)</td>\n",
       "    </tr>\n",
       "    <tr>\n",
       "      <th>4</th>\n",
       "      <td>4</td>\n",
       "      <td>Speed limit (70km/h)</td>\n",
       "    </tr>\n",
       "  </tbody>\n",
       "</table>\n",
       "</div>"
      ],
      "text/plain": [
       "   ClassId              SignName\n",
       "0        0  Speed limit (20km/h)\n",
       "1        1  Speed limit (30km/h)\n",
       "2        2  Speed limit (50km/h)\n",
       "3        3  Speed limit (60km/h)\n",
       "4        4  Speed limit (70km/h)"
      ]
     },
     "execution_count": 17,
     "metadata": {},
     "output_type": "execute_result"
    }
   ],
   "source": [
    "sign_names = pd.read_csv('signnames.csv')\n",
    "print(sign_names.dtypes)\n",
    "sign_names.head()"
   ]
  },
  {
   "cell_type": "code",
   "execution_count": 18,
   "metadata": {
    "collapsed": false,
    "deletable": true,
    "editable": true
   },
   "outputs": [
    {
     "data": {
      "image/png": "[encoded data removed]",
      "text/plain": [
       "<matplotlib.figure.Figure at 0x7fbc8fb7c2e8>"
      ]
     },
     "metadata": {},
     "output_type": "display_data"
    }
   ],
   "source": [
    "for fig_i,i in enumerate(list(np.random.randint(n_train,size=18))):\n",
    "    plt.subplot(3,6,int(fig_i)+1)\n",
    "    plt.imshow(X_train[i])\n",
    "    plt.title(sign_names.loc[y_train[i],'SignName'])\n",
    "    \n",
    "plt.subplots_adjust(top=0.92, bottom=0.08, left=0.10, right=0.95, hspace=0.8, wspace=0.15)\n",
    "plt.show()"
   ]
  },
  {
   "cell_type": "markdown",
   "metadata": {
    "deletable": true,
    "editable": true
   },
   "source": [
    "----\n",
    "\n",
    "## Step 2: Design and Test a Model Architecture\n",
    "\n",
    "Design and implement a deep learning model that learns to recognize traffic signs. Train and test your model on the [German Traffic Sign Dataset](http://benchmark.ini.rub.de/?section=gtsrb&subsection=dataset).\n",
    "\n",
    "The LeNet-5 implementation shown in the [classroom](https://classroom.udacity.com/nanodegrees/nd013/parts/fbf77062-5703-404e-b60c-95b78b2f3f9e/modules/6df7ae49-c61c-4bb2-a23e-6527e69209ec/lessons/601ae704-1035-4287-8b11-e2c2716217ad/concepts/d4aca031-508f-4e0b-b493-e7b706120f81) at the end of the CNN lesson is a solid starting point. You'll have to change the number of classes and possibly the preprocessing, but aside from that it's plug and play! \n",
    "\n",
    "With the LeNet-5 solution from the lecture, you should expect a validation set accuracy of about 0.89. To meet specifications, the validation set accuracy will need to be at least 0.93. It is possible to get an even higher accuracy, but 0.93 is the minimum for a successful project submission. \n",
    "\n",
    "There are various aspects to consider when thinking about this problem:\n",
    "\n",
    "- Neural network architecture (is the network over or underfitting?)\n",
    "- Play around preprocessing techniques (normalization, rgb to grayscale, etc)\n",
    "- Number of examples per label (some have more than others).\n",
    "- Generate fake data.\n",
    "\n",
    "Here is an example of a [published baseline model on this problem](http://yann.lecun.com/exdb/publis/pdf/sermanet-ijcnn-11.pdf). It's not required to be familiar with the approach used in the paper but, it's good practice to try to read papers like these."
   ]
  },
  {
   "cell_type": "markdown",
   "metadata": {
    "deletable": true,
    "editable": true
   },
   "source": [
    "### Pre-process the Data Set (normalization, grayscale, etc.)"
   ]
  },
  {
   "cell_type": "markdown",
   "metadata": {
    "deletable": true,
    "editable": true
   },
   "source": [
    "Minimally, the image data should be normalized so that the data has mean zero and equal variance. For image data, `(pixel - 128)/ 128` is a quick way to approximately normalize the data and can be used in this project. \n",
    "\n",
    "Other pre-processing steps are optional. You can try different techniques to see if it improves performance. \n",
    "\n",
    "Use the code cell (or multiple code cells, if necessary) to implement the first step of your project."
   ]
  },
  {
   "cell_type": "code",
   "execution_count": 19,
   "metadata": {
    "collapsed": true,
    "deletable": true,
    "editable": true
   },
   "outputs": [],
   "source": [
    "def normalize(X):\n",
    "    \"\"\"Normalize RGB variables such that they are in range of 0 to 1\"\"\"\n",
    "    X = X.astype(np.float)\n",
    "    return (X - X.min())/(X.max() - X.min())"
   ]
  },
  {
   "cell_type": "code",
   "execution_count": 20,
   "metadata": {
    "collapsed": false,
    "deletable": true,
    "editable": true
   },
   "outputs": [
    {
     "name": "stdout",
     "output_type": "stream",
     "text": [
      "1.0\n",
      "0.0\n",
      "0.320376240689\n"
     ]
    }
   ],
   "source": [
    "# Normalizing all images in advance\n",
    "X_train_normed = normalize(X_train)\n",
    "X_valid_normed = normalize(X_valid)\n",
    "X_test_normed = normalize(X_test)\n",
    "print(X_train_normed.max())\n",
    "print(X_train_normed.min())\n",
    "print(X_train_normed.mean())"
   ]
  },
  {
   "cell_type": "code",
   "execution_count": 21,
   "metadata": {
    "collapsed": true,
    "deletable": true,
    "editable": true
   },
   "outputs": [],
   "source": [
    "from sklearn.utils import shuffle"
   ]
  },
  {
   "cell_type": "code",
   "execution_count": 22,
   "metadata": {
    "collapsed": true,
    "deletable": true,
    "editable": true
   },
   "outputs": [],
   "source": [
    "# Shuffle the data in advance\n",
    "X_train, y_train = shuffle(X_train, y_train)"
   ]
  },
  {
   "cell_type": "markdown",
   "metadata": {
    "deletable": true,
    "editable": true
   },
   "source": [
    "### Model Architecture"
   ]
  },
  {
   "cell_type": "code",
   "execution_count": 23,
   "metadata": {
    "collapsed": true,
    "deletable": true,
    "editable": true
   },
   "outputs": [],
   "source": [
    "import tensorflow as tf"
   ]
  },
  {
   "cell_type": "code",
   "execution_count": 24,
   "metadata": {
    "collapsed": true,
    "deletable": true,
    "editable": true
   },
   "outputs": [],
   "source": [
    "def conv2d(x_tensor, conv_num_outputs, \n",
    "           conv_ksize, conv_strides,\n",
    "           padding = 'SAME'):\n",
    "    \"\"\"\n",
    "    Apply convolution then max pooling to x_tensor\n",
    "    :param x_tensor: TensorFlow Tensor\n",
    "    :param conv_num_outputs: Number of outputs for the convolutional layer\n",
    "    :param conv_ksize: kernal size 2-D Tuple for the convolutional layer\n",
    "    :param conv_strides: Stride 2-D Tuple for convolution\n",
    "    :param pool_ksize: kernal size 2-D Tuple for pool\n",
    "    :param pool_strides: Stride 2-D Tuple for pool\n",
    "    : return: A tensor that represents convolution and max pooling of x_tensor\n",
    "    \"\"\"\n",
    "    with tf.name_scope('conv2d'):\n",
    "        W = tf.Variable(tf.truncated_normal(shape = (*conv_ksize, x_tensor.get_shape().as_list()[3],conv_num_outputs), \n",
    "                                            mean=0.0, \n",
    "                                            stddev=0.1,\n",
    "                                            dtype=tf.float32, \n",
    "                                            name = 'conv_W'))\n",
    "        b = tf.Variable(tf.zeros(conv_num_outputs, \n",
    "                                 dtype=tf.float32,\n",
    "                                 name = 'conv_b'))\n",
    "        conv = tf.nn.conv2d(x_tensor, W, [1, *conv_strides ,1], padding, name = 'conv2d')\n",
    "        conv += b\n",
    "        conv = tf.nn.relu(conv)\n",
    "        tf.summary.histogram(\"conv_weights\", W)\n",
    "        tf.summary.histogram(\"conv_bias\", b)\n",
    "    return conv"
   ]
  },
  {
   "cell_type": "code",
   "execution_count": 25,
   "metadata": {
    "collapsed": true,
    "deletable": true,
    "editable": true
   },
   "outputs": [],
   "source": [
    "def maxpool(x_tensor, pool_ksize, pool_strides, padding = 'SAME'):\n",
    "    \"\"\"\n",
    "    Apply convolution then max pooling to x_tensor\n",
    "    :param x_tensor: TensorFlow Tensor\n",
    "    :param conv_num_outputs: Number of outputs for the convolutional layer\n",
    "    :param conv_ksize: kernal size 2-D Tuple for the convolutional layer\n",
    "    :param conv_strides: Stride 2-D Tuple for convolution\n",
    "    :param pool_ksize: kernal size 2-D Tuple for pool\n",
    "    :param pool_strides: Stride 2-D Tuple for pool\n",
    "    : return: A tensor that represents convolution and max pooling of x_tensor\n",
    "    \"\"\"\n",
    "    with tf.name_scope('maxpool'):\n",
    "        max_pooled_conv = tf.nn.max_pool(x_tensor, [1, *pool_ksize ,1], [1, *pool_strides ,1], padding, name='max_pool')\n",
    "    return max_pooled_conv"
   ]
  },
  {
   "cell_type": "code",
   "execution_count": 26,
   "metadata": {
    "collapsed": true,
    "deletable": true,
    "editable": true
   },
   "outputs": [],
   "source": [
    "def flatten(x_tensor):\n",
    "    \"\"\"\n",
    "    Flatten x_tensor to (Batch Size, Flattened Image Size)\n",
    "    : x_tensor: A tensor of size (Batch Size, ...), where ... are the image dimensions.\n",
    "    : return: A tensor of size (Batch Size, Flattened Image Size).\n",
    "    \"\"\"\n",
    "    with tf.name_scope('Flatten'):\n",
    "        return tf.reshape(x_tensor, shape = (-1 ,np.prod(x_tensor.get_shape().as_list()[1:])), name = 'flatten')"
   ]
  },
  {
   "cell_type": "code",
   "execution_count": 27,
   "metadata": {
    "collapsed": true,
    "deletable": true,
    "editable": true
   },
   "outputs": [],
   "source": [
    "def fully_conn(x_tensor, num_outputs):\n",
    "    \"\"\"\n",
    "    Apply a fully connected layer to x_tensor using weight and bias\n",
    "    : x_tensor: A 2-D tensor where the first dimension is batch size.\n",
    "    : num_outputs: The number of output that the new tensor should be.\n",
    "    : return: A 2-D tensor where the second dimension is num_outputs.\n",
    "    \"\"\"\n",
    "    with tf.name_scope('FC'):\n",
    "        W = tf.Variable(tf.truncated_normal(shape = (x_tensor.get_shape().as_list()[1], num_outputs), \n",
    "                                            mean=0.0,\n",
    "                                            stddev=0.1,\n",
    "                                            dtype=tf.float32, \n",
    "                                            name = 'FC_W'))\n",
    "        b = tf.Variable(tf.zeros(num_outputs, \n",
    "                                 dtype=tf.float32,\n",
    "                                 name = 'FC_b'))\n",
    "        fc = tf.matmul(x_tensor, W) + b\n",
    "        fc_act = tf.nn.relu(fc)\n",
    "        tf.summary.histogram(\"FC_weights\", W)\n",
    "        tf.summary.histogram(\"FC_bias\", b)\n",
    "        return fc_act"
   ]
  },
  {
   "cell_type": "code",
   "execution_count": 28,
   "metadata": {
    "collapsed": true,
    "deletable": true,
    "editable": true
   },
   "outputs": [],
   "source": [
    "def output(x_tensor, num_outputs):\n",
    "    \"\"\"\n",
    "    Apply a output layer to x_tensor using weight and bias\n",
    "    : x_tensor: A 2-D tensor where the first dimension is batch size.\n",
    "    : num_outputs: The number of output that the new tensor should be.\n",
    "    : return: A 2-D tensor where the second dimension is num_outputs.\n",
    "    \"\"\"\n",
    "    with tf.name_scope('Output'):\n",
    "        W = tf.Variable(tf.truncated_normal(shape = (x_tensor.get_shape().as_list()[1], num_outputs), \n",
    "                                            mean=0.0,\n",
    "                                            stddev=0.1,\n",
    "                                            dtype=tf.float32, \n",
    "                                            name = 'Out_W'))\n",
    "        b = tf.Variable(tf.zeros(num_outputs, \n",
    "                                 dtype=tf.float32,\n",
    "                                 name = 'Out_b'))\n",
    "        fc = tf.matmul(x_tensor, W) + b\n",
    "        tf.summary.histogram(\"Output_weights\", W)\n",
    "        tf.summary.histogram(\"Output_bias\", b)\n",
    "        return fc"
   ]
  },
  {
   "cell_type": "code",
   "execution_count": 29,
   "metadata": {
    "collapsed": true,
    "deletable": true,
    "editable": true
   },
   "outputs": [],
   "source": [
    "def concatenate(layers, axis):\n",
    "    \"\"\"\n",
    "    Concatenate multiple tensors together\n",
    "    : layers: Iterable list of tensors\n",
    "    : return: A tensor of layers concatentated together\n",
    "    \"\"\"\n",
    "    with tf.name_scope('concat'):\n",
    "        conc = tf.concat([*layers], axis)\n",
    "    return conc"
   ]
  },
  {
   "cell_type": "code",
   "execution_count": 30,
   "metadata": {
    "collapsed": false,
    "deletable": true,
    "editable": true
   },
   "outputs": [],
   "source": [
    "# Model arch was inspired by Vivek Yadav's post\n",
    "# https://medium.com/@vivek.yadav/improved-performance-of-deep-learning-neural-network-models-on-traffic-sign-classification-using-6355346da2dc\n",
    "def conv_net_1(x, keep_prob):\n",
    "    \"\"\"\n",
    "    Create a convolutional neural network model\n",
    "    : x: Placeholder tensor that holds image data.\n",
    "    : keep_prob: Placeholder tensor that hold dropout keep probability.\n",
    "    : return: Tensor that represents logits\n",
    "    \"\"\"\n",
    "    l0 = conv2d(x, \n",
    "                conv_num_outputs = 16, \n",
    "                conv_ksize = (1,1), \n",
    "                conv_strides = (1,1))\n",
    "\n",
    "    l1 = conv2d(l0, \n",
    "                conv_num_outputs = 48, \n",
    "                conv_ksize = (3,3), \n",
    "                conv_strides = (1,1))\n",
    "    l1 = conv2d(l1, \n",
    "                conv_num_outputs = 48, \n",
    "                conv_ksize = (3,3), \n",
    "                conv_strides = (1,1))\n",
    "    l1 = maxpool(l1,\n",
    "                pool_ksize  = (2,2), \n",
    "                pool_strides = (2,2))\n",
    "    l1 = tf.contrib.layers.batch_norm(l1)\n",
    "    \n",
    "    l2 = conv2d(l1, \n",
    "                conv_num_outputs = 64, \n",
    "                conv_ksize = (3,3), \n",
    "                conv_strides = (1,1))\n",
    "    l2 = conv2d(l2, \n",
    "                conv_num_outputs = 64, \n",
    "                conv_ksize = (3,3), \n",
    "                conv_strides = (1,1))\n",
    "    l2 = maxpool(l2,\n",
    "                pool_ksize  = (2,2), \n",
    "                pool_strides = (2,2))\n",
    "    l2 = tf.contrib.layers.batch_norm(l2)\n",
    "    \n",
    "    l3 = conv2d(l2, \n",
    "                conv_num_outputs = 96, \n",
    "                conv_ksize = (3,3), \n",
    "                conv_strides = (1,1))\n",
    "    l3 = conv2d(l3, \n",
    "                conv_num_outputs = 96, \n",
    "                conv_ksize = (3,3), \n",
    "                conv_strides = (1,1))\n",
    "    l3 = maxpool(l3,\n",
    "                pool_ksize  = (2,2), \n",
    "                pool_strides = (2,2))\n",
    "    l3 = tf.contrib.layers.batch_norm(l3)\n",
    "\n",
    "    flat_l1 = flatten(l1)\n",
    "    flat_l2 = flatten(l2)\n",
    "    flat_l3 = flatten(l3)\n",
    "    \n",
    "    flat = concatenate([flat_l1, flat_l2, flat_l3], axis = 1)\n",
    "\n",
    "    flat = tf.nn.dropout(flat, keep_prob)\n",
    "    \n",
    "    dense_1 = fully_conn(flat, 4096)\n",
    "    dense_1 = tf.contrib.layers.batch_norm(dense_1)\n",
    "    dense_1 = tf.nn.dropout(dense_1, keep_prob)\n",
    "    \n",
    "    dense_2 = fully_conn(dense_1, 1024)\n",
    "    dense_2 = tf.contrib.layers.batch_norm(dense_2)\n",
    "    dense_2 = tf.nn.dropout(dense_2, keep_prob)\n",
    "    \n",
    "    dense_3 = fully_conn(dense_2, 512)\n",
    "    dense_3 = tf.contrib.layers.batch_norm(dense_3)\n",
    "    \n",
    "    return output(dense_3, 43)"
   ]
  },
  {
   "cell_type": "code",
   "execution_count": 31,
   "metadata": {
    "collapsed": true,
    "deletable": true,
    "editable": true
   },
   "outputs": [],
   "source": [
    "tf.reset_default_graph() \n",
    "\n",
    "x = tf.placeholder(tf.float32, (None, 32, 32, X_train.shape[3]), name = 'x')\n",
    "y = tf.placeholder(tf.int32, (None), name = 'y')\n",
    "\n",
    "with tf.name_scope('keep_prob'):\n",
    "    keep_prob = tf.placeholder(tf.float32, name='keep_prob')\n",
    "\n",
    "with tf.name_scope('one_hot'):\n",
    "    one_hot_y = tf.one_hot(y, len(np.unique(y_train)))"
   ]
  },
  {
   "cell_type": "code",
   "execution_count": 32,
   "metadata": {
    "collapsed": false,
    "deletable": true,
    "editable": true
   },
   "outputs": [],
   "source": [
    "logits = conv_net_1(x, keep_prob)\n",
    "\n",
    "# Loss and Optimizer\n",
    "with tf.name_scope('Xent'):\n",
    "    cross_entropy = tf.nn.softmax_cross_entropy_with_logits(logits=logits, labels=one_hot_y)\n",
    "    loss = tf.reduce_mean(cross_entropy)\n",
    "    tf.summary.scalar('softmax_cross_entropy_with_logits', loss)\n",
    "with tf.name_scope('train'):\n",
    "    optimizer = tf.train.AdamOptimizer().minimize(loss)\n",
    "# Accuracy\n",
    "with tf.name_scope('accuracy'):\n",
    "    correct_prediction = tf.equal(tf.argmax(logits, 1), tf.argmax(one_hot_y, 1))\n",
    "    accuracy = tf.reduce_mean(tf.cast(correct_prediction, tf.float32),name='accuracy')\n",
    "    tf.summary.scalar('accuracy', accuracy)"
   ]
  },
  {
   "cell_type": "code",
   "execution_count": 33,
   "metadata": {
    "collapsed": true,
    "deletable": true,
    "editable": true
   },
   "outputs": [],
   "source": [
    "def train_neural_network(session, optimizer, keep_probability, feature_batch, label_batch):\n",
    "    \"\"\"\n",
    "    Optimize the session on a batch of images and labels\n",
    "    : session: Current TensorFlow session\n",
    "    : optimizer: TensorFlow optimizer function\n",
    "    : keep_probability: keep probability\n",
    "    : feature_batch: Batch of Numpy image data\n",
    "    : label_batch: Batch of Numpy label data\n",
    "    \"\"\"\n",
    "    with tf.name_scope('adam'):\n",
    "        return session.run([optimizer], feed_dict = {x: feature_batch, y:label_batch, keep_prob: keep_probability})"
   ]
  },
  {
   "cell_type": "code",
   "execution_count": 34,
   "metadata": {
    "collapsed": false,
    "deletable": true,
    "editable": true
   },
   "outputs": [],
   "source": [
    "def print_stats(session, feature_batch, label_batch, cost, accuracy):\n",
    "    \"\"\"\n",
    "    Print information about loss and validation accuracy\n",
    "    : session: Current TensorFlow session\n",
    "    : feature_batch: Batch of Numpy image data\n",
    "    : label_batch: Batch of Numpy label data\n",
    "    : cost: TensorFlow cost function\n",
    "    : accuracy: TensorFlow accuracy function\n",
    "    \"\"\"\n",
    "    with tf.name_scope('stats'):\n",
    "        loss = session.run(cost, feed_dict={x: feature_batch, y: label_batch, keep_prob: 1.})\n",
    "        t_acc = session.run(accuracy, feed_dict={x: feature_batch, y: label_batch, keep_prob: 1.})\n",
    "        v_acc = session.run(accuracy, feed_dict={x: X_valid, y: y_valid, keep_prob: 1.})\n",
    "        print('Loss: {:.5f} Training accuracy: {:.5f} Validation accuracy: {:.5f}'.format(loss,t_acc,v_acc))"
   ]
  },
  {
   "cell_type": "markdown",
   "metadata": {},
   "source": [
    "# Model Architecture"
   ]
  },
  {
   "cell_type": "markdown",
   "metadata": {},
   "source": [
    "![Model Arch](misc/arch.png)"
   ]
  },
  {
   "cell_type": "markdown",
   "metadata": {
    "deletable": true,
    "editable": true
   },
   "source": [
    "### Train, Validate and Test the Model"
   ]
  },
  {
   "cell_type": "markdown",
   "metadata": {
    "deletable": true,
    "editable": true
   },
   "source": [
    "A validation set can be used to assess how well the model is performing. A low accuracy on the training and validation\n",
    "sets imply underfitting. A high accuracy on the training set but low accuracy on the validation set implies overfitting."
   ]
  },
  {
   "cell_type": "code",
   "execution_count": 35,
   "metadata": {
    "collapsed": true,
    "deletable": true,
    "editable": true
   },
   "outputs": [],
   "source": [
    "import uuid"
   ]
  },
  {
   "cell_type": "code",
   "execution_count": 36,
   "metadata": {
    "collapsed": false,
    "deletable": true,
    "editable": true,
    "scrolled": true
   },
   "outputs": [
    {
     "name": "stdout",
     "output_type": "stream",
     "text": [
      "f48a1eee\n",
      "Training...\n",
      "Epoch  1, CIFAR-10 Batch 255744:  Loss: 0.02586 Training accuracy: 0.99219 Validation accuracy: 0.94399\n",
      "Epoch  2, CIFAR-10 Batch 195072:  Loss: 0.00095 Training accuracy: 1.00000 Validation accuracy: 0.96689\n",
      "Epoch  3, CIFAR-10 Batch 134400:  Loss: 0.00069 Training accuracy: 1.00000 Validation accuracy: 0.97256\n",
      "Epoch  4, CIFAR-10 Batch 73728:  Loss: 0.00007 Training accuracy: 1.00000 Validation accuracy: 0.97098\n",
      "Epoch  5, CIFAR-10 Batch 13056:  Loss: 0.00021 Training accuracy: 1.00000 Validation accuracy: 0.97619\n",
      "Epoch  5, CIFAR-10 Batch 269056:  Loss: 0.00058 Training accuracy: 1.00000 Validation accuracy: 0.96780\n",
      "Epoch  6, CIFAR-10 Batch 208384:  Loss: 0.00014 Training accuracy: 1.00000 Validation accuracy: 0.97914\n",
      "Epoch  7, CIFAR-10 Batch 147712:  Loss: 0.00122 Training accuracy: 1.00000 Validation accuracy: 0.98095\n",
      "Epoch  8, CIFAR-10 Batch 87040:  Loss: 0.00002 Training accuracy: 1.00000 Validation accuracy: 0.97891\n",
      "Epoch  9, CIFAR-10 Batch 26368:  Loss: 0.00006 Training accuracy: 1.00000 Validation accuracy: 0.98367\n",
      "Epoch  9, CIFAR-10 Batch 282368:  Loss: 0.00000 Training accuracy: 1.00000 Validation accuracy: 0.98980\n",
      "Epoch 10, CIFAR-10 Batch 221696:  Loss: 0.00037 Training accuracy: 1.00000 Validation accuracy: 0.98594\n",
      "Epoch 11, CIFAR-10 Batch 161024:  Loss: 0.00016 Training accuracy: 1.00000 Validation accuracy: 0.97959\n",
      "Epoch 12, CIFAR-10 Batch 100352:  Loss: 0.00002 Training accuracy: 1.00000 Validation accuracy: 0.98617\n",
      "Epoch 13, CIFAR-10 Batch 39680:  Loss: 0.00020 Training accuracy: 1.00000 Validation accuracy: 0.98209\n",
      "Epoch 13, CIFAR-10 Batch 295680:  Loss: 0.00001 Training accuracy: 1.00000 Validation accuracy: 0.98345\n",
      "Epoch 14, CIFAR-10 Batch 235008:  Loss: 0.00165 Training accuracy: 1.00000 Validation accuracy: 0.98050\n",
      "Epoch 15, CIFAR-10 Batch 174336:  Loss: 0.00000 Training accuracy: 1.00000 Validation accuracy: 0.98413\n",
      "Epoch 16, CIFAR-10 Batch 113664:  Loss: 0.00000 Training accuracy: 1.00000 Validation accuracy: 0.98549\n",
      "Epoch 17, CIFAR-10 Batch 52992:  Loss: 0.00000 Training accuracy: 1.00000 Validation accuracy: 0.98458\n",
      "Epoch 17, CIFAR-10 Batch 308992:  Loss: 0.00021 Training accuracy: 1.00000 Validation accuracy: 0.98503\n",
      "Epoch 18, CIFAR-10 Batch 248320:  Loss: 0.00000 Training accuracy: 1.00000 Validation accuracy: 0.98005\n",
      "Epoch 19, CIFAR-10 Batch 187648:  Loss: 0.00048 Training accuracy: 1.00000 Validation accuracy: 0.98798\n",
      "Epoch 20, CIFAR-10 Batch 126976:  Loss: 0.00000 Training accuracy: 1.00000 Validation accuracy: 0.99138\n",
      "Epoch 21, CIFAR-10 Batch 66304:  Loss: 0.00001 Training accuracy: 1.00000 Validation accuracy: 0.98844\n",
      "Epoch 22, CIFAR-10 Batch 5632:  Loss: 0.00000 Training accuracy: 1.00000 Validation accuracy: 0.98821\n",
      "Epoch 22, CIFAR-10 Batch 261632:  Loss: 0.00003 Training accuracy: 1.00000 Validation accuracy: 0.98231\n",
      "Epoch 23, CIFAR-10 Batch 200960:  Loss: 0.00001 Training accuracy: 1.00000 Validation accuracy: 0.98481\n",
      "Epoch 24, CIFAR-10 Batch 140288:  Loss: 0.00000 Training accuracy: 1.00000 Validation accuracy: 0.98798\n",
      "Epoch 25, CIFAR-10 Batch 79616:  Loss: 0.00000 Training accuracy: 1.00000 Validation accuracy: 0.98662\n",
      "Epoch 26, CIFAR-10 Batch 18944:  Loss: 0.00000 Training accuracy: 1.00000 Validation accuracy: 0.98549\n",
      "Epoch 26, CIFAR-10 Batch 274944:  Loss: 0.00000 Training accuracy: 1.00000 Validation accuracy: 0.98571\n",
      "Epoch 27, CIFAR-10 Batch 214272:  Loss: 0.00000 Training accuracy: 1.00000 Validation accuracy: 0.98821\n",
      "Epoch 28, CIFAR-10 Batch 153600:  Loss: 0.00000 Training accuracy: 1.00000 Validation accuracy: 0.98776\n",
      "Epoch 29, CIFAR-10 Batch 92928:  Loss: 0.00000 Training accuracy: 1.00000 Validation accuracy: 0.98617\n",
      "Epoch 30, CIFAR-10 Batch 32256:  Loss: 0.00000 Training accuracy: 1.00000 Validation accuracy: 0.99138\n",
      "Epoch 30, CIFAR-10 Batch 288256:  Loss: 0.00000 Training accuracy: 1.00000 Validation accuracy: 0.99048\n",
      "Epoch 31, CIFAR-10 Batch 227584:  Loss: 0.00000 Training accuracy: 1.00000 Validation accuracy: 0.98844\n",
      "Epoch 32, CIFAR-10 Batch 166912:  Loss: 0.00000 Training accuracy: 1.00000 Validation accuracy: 0.98662\n",
      "Epoch 33, CIFAR-10 Batch 106240:  Loss: 0.00000 Training accuracy: 1.00000 Validation accuracy: 0.98980\n",
      "Epoch 34, CIFAR-10 Batch 45568:  Loss: 0.00000 Training accuracy: 1.00000 Validation accuracy: 0.98844\n",
      "Epoch 34, CIFAR-10 Batch 301568:  Loss: 0.00000 Training accuracy: 1.00000 Validation accuracy: 0.98753\n",
      "Epoch 35, CIFAR-10 Batch 240896:  Loss: 0.00000 Training accuracy: 1.00000 Validation accuracy: 0.98776\n",
      "Epoch 36, CIFAR-10 Batch 180224:  Loss: 0.00000 Training accuracy: 1.00000 Validation accuracy: 0.98753\n",
      "Epoch 37, CIFAR-10 Batch 119552:  Loss: 0.00000 Training accuracy: 1.00000 Validation accuracy: 0.99206\n",
      "Epoch 38, CIFAR-10 Batch 58880:  Loss: 0.00000 Training accuracy: 1.00000 Validation accuracy: 0.98776\n",
      "Epoch 38, CIFAR-10 Batch 314880:  Loss: 0.00000 Training accuracy: 1.00000 Validation accuracy: 0.98821\n",
      "Epoch 39, CIFAR-10 Batch 254208:  Loss: 0.00000 Training accuracy: 1.00000 Validation accuracy: 0.98730\n",
      "Epoch 40, CIFAR-10 Batch 193536:  Loss: 0.00000 Training accuracy: 1.00000 Validation accuracy: 0.98821\n",
      "Epoch 41, CIFAR-10 Batch 132864:  Loss: 0.00000 Training accuracy: 1.00000 Validation accuracy: 0.98730\n",
      "Epoch 42, CIFAR-10 Batch 72192:  Loss: 0.00000 Training accuracy: 1.00000 Validation accuracy: 0.98639\n",
      "Epoch 43, CIFAR-10 Batch 11520:  Loss: 0.00000 Training accuracy: 1.00000 Validation accuracy: 0.98798\n",
      "Epoch 43, CIFAR-10 Batch 267520:  Loss: 0.00000 Training accuracy: 1.00000 Validation accuracy: 0.98889\n",
      "Epoch 44, CIFAR-10 Batch 206848:  Loss: 0.00000 Training accuracy: 1.00000 Validation accuracy: 0.98549\n",
      "Epoch 45, CIFAR-10 Batch 146176:  Loss: 0.00001 Training accuracy: 1.00000 Validation accuracy: 0.98617\n",
      "Epoch 46, CIFAR-10 Batch 85504:  Loss: 0.00007 Training accuracy: 1.00000 Validation accuracy: 0.98753\n",
      "Epoch 47, CIFAR-10 Batch 24832:  Loss: 0.00000 Training accuracy: 1.00000 Validation accuracy: 0.98798\n",
      "Epoch 47, CIFAR-10 Batch 280832:  Loss: 0.00000 Training accuracy: 1.00000 Validation accuracy: 0.98617\n",
      "Epoch 48, CIFAR-10 Batch 220160:  Loss: 0.00000 Training accuracy: 1.00000 Validation accuracy: 0.98277\n",
      "Epoch 49, CIFAR-10 Batch 159488:  Loss: 0.00006 Training accuracy: 1.00000 Validation accuracy: 0.98299\n",
      "Epoch 50, CIFAR-10 Batch 98816:  Loss: 0.00000 Training accuracy: 1.00000 Validation accuracy: 0.98345\n",
      "Epoch 51, CIFAR-10 Batch 38144:  Loss: 0.00000 Training accuracy: 1.00000 Validation accuracy: 0.98526\n",
      "Epoch 51, CIFAR-10 Batch 294144:  Loss: 0.00000 Training accuracy: 1.00000 Validation accuracy: 0.98594\n",
      "Epoch 52, CIFAR-10 Batch 233472:  Loss: 0.00000 Training accuracy: 1.00000 Validation accuracy: 0.98685\n",
      "Epoch 53, CIFAR-10 Batch 172800:  Loss: 0.00000 Training accuracy: 1.00000 Validation accuracy: 0.99025\n",
      "Epoch 54, CIFAR-10 Batch 112128:  Loss: 0.00000 Training accuracy: 1.00000 Validation accuracy: 0.98458\n",
      "Epoch 55, CIFAR-10 Batch 51456:  Loss: 0.00000 Training accuracy: 1.00000 Validation accuracy: 0.98685\n",
      "Epoch 55, CIFAR-10 Batch 307456:  Loss: 0.00000 Training accuracy: 1.00000 Validation accuracy: 0.98776\n",
      "Epoch 56, CIFAR-10 Batch 246784:  Loss: 0.00000 Training accuracy: 1.00000 Validation accuracy: 0.98866\n",
      "Epoch 57, CIFAR-10 Batch 186112:  Loss: 0.00000 Training accuracy: 1.00000 Validation accuracy: 0.98730\n",
      "Epoch 58, CIFAR-10 Batch 125440:  Loss: 0.00000 Training accuracy: 1.00000 Validation accuracy: 0.98526\n",
      "Epoch 59, CIFAR-10 Batch 64768:  Loss: 0.00001 Training accuracy: 1.00000 Validation accuracy: 0.98617\n",
      "Epoch 60, CIFAR-10 Batch 4096:  Loss: 0.00033 Training accuracy: 1.00000 Validation accuracy: 0.98617\n",
      "Epoch 60, CIFAR-10 Batch 260096:  Loss: 0.00000 Training accuracy: 1.00000 Validation accuracy: 0.98798\n",
      "Epoch 61, CIFAR-10 Batch 199424:  Loss: 0.00001 Training accuracy: 1.00000 Validation accuracy: 0.98753\n",
      "Epoch 62, CIFAR-10 Batch 138752:  Loss: 0.00000 Training accuracy: 1.00000 Validation accuracy: 0.98503\n",
      "Epoch 63, CIFAR-10 Batch 78080:  Loss: 0.00000 Training accuracy: 1.00000 Validation accuracy: 0.98753\n",
      "Epoch 64, CIFAR-10 Batch 17408:  Loss: 0.00000 Training accuracy: 1.00000 Validation accuracy: 0.99025\n",
      "Epoch 64, CIFAR-10 Batch 273408:  Loss: 0.00000 Training accuracy: 1.00000 Validation accuracy: 0.98730\n"
     ]
    }
   ],
   "source": [
    "epochs = 64\n",
    "batch_size = 256\n",
    "keep_probability = 0.5\n",
    "\n",
    "model_id = str(uuid.uuid4())[:8]\n",
    "print(model_id)\n",
    "\n",
    "save_model_path = './traffic-class'\n",
    "\n",
    "print('Training...')\n",
    "with tf.Session() as sess:\n",
    "    # Initializing the variables\n",
    "    sess.run(tf.global_variables_initializer())\n",
    "    \n",
    "    merged_summary = tf.summary.merge_all()\n",
    "    writer = tf.summary.FileWriter(\"summary/traffic/\" + model_id)\n",
    "    writer.add_graph(sess.graph)\n",
    "    c = 0\n",
    "    # Training cycle\n",
    "    for epoch in range(epochs):\n",
    "        for offset in range(0, len(X_train), batch_size):\n",
    "            end = offset + batch_size\n",
    "            batch_features, batch_labels = X_train[offset:end], y_train[offset:end]\n",
    "            train_neural_network(sess, optimizer , keep_probability, batch_features, batch_labels)\n",
    "            c+=1\n",
    "            if c % 1000 == 0:\n",
    "                s = sess.run(merged_summary, feed_dict = {x: batch_features, y: batch_labels, keep_prob: keep_probability})\n",
    "                writer.add_summary(s, c)\n",
    "                print('Epoch {:>2}, CIFAR-10 Batch {}:  '.format(epoch + 1, offset), end='')\n",
    "                print_stats(sess, batch_features, batch_labels, loss, accuracy)\n",
    "\n",
    "    # Save Model\n",
    "    saver = tf.train.Saver()\n",
    "    save_path = saver.save(sess, save_model_path)"
   ]
  },
  {
   "cell_type": "code",
   "execution_count": 37,
   "metadata": {
    "collapsed": false,
    "deletable": true,
    "editable": true,
    "scrolled": true
   },
   "outputs": [
    {
     "name": "stdout",
     "output_type": "stream",
     "text": [
      "Test Accuracy = 0.972\n"
     ]
    }
   ],
   "source": [
    "# tf.reset_default_graph()\n",
    "with tf.Session() as sess:\n",
    "    saver.restore(sess, tf.train.latest_checkpoint('.'))\n",
    "    num_examples = len(X_test)\n",
    "    total_accuracy = 0\n",
    "    BATCH_SIZE = 256\n",
    "    for offset in range(0, num_examples, BATCH_SIZE):\n",
    "        batch_x, batch_y = X_test[offset:offset+BATCH_SIZE], y_test[offset:offset+BATCH_SIZE]\n",
    "        accuracy_score = sess.run(accuracy, feed_dict={x: batch_x, y: batch_y, keep_prob: 1.})\n",
    "        total_accuracy += (accuracy_score * len(batch_x))\n",
    "    \n",
    "#     test_accuracy = sess.run(accuracy, feed_dict={x: X_test, y: y_test, keep_prob: 1.})\n",
    "    print(\"Test Accuracy = {:.3f}\".format(total_accuracy / num_examples))"
   ]
  },
  {
   "cell_type": "markdown",
   "metadata": {},
   "source": [
    "### Distributions\n",
    "![Distr](misc/distr.png)"
   ]
  },
  {
   "cell_type": "markdown",
   "metadata": {},
   "source": [
    "### Histograms\n",
    "![Histogram](misc/hist.png)"
   ]
  },
  {
   "cell_type": "markdown",
   "metadata": {
    "deletable": true,
    "editable": true
   },
   "source": [
    "---\n",
    "\n",
    "## Step 3: Test a Model on New Images\n",
    "\n",
    "To give yourself more insight into how your model is working, download at least five pictures of German traffic signs from the web and use your model to predict the traffic sign type.\n",
    "\n",
    "You may find `signnames.csv` useful as it contains mappings from the class id (integer) to the actual sign name."
   ]
  },
  {
   "cell_type": "markdown",
   "metadata": {
    "deletable": true,
    "editable": true
   },
   "source": [
    "### Load and Output the Images"
   ]
  },
  {
   "cell_type": "code",
   "execution_count": 44,
   "metadata": {
    "collapsed": true,
    "deletable": true,
    "editable": true
   },
   "outputs": [],
   "source": [
    "import os\n",
    "import cv2"
   ]
  },
  {
   "cell_type": "code",
   "execution_count": 46,
   "metadata": {
    "collapsed": false,
    "deletable": true,
    "editable": true
   },
   "outputs": [],
   "source": [
    "folder_name = 'google_maps_traffic_signs/'"
   ]
  },
  {
   "cell_type": "code",
   "execution_count": 47,
   "metadata": {
    "collapsed": false,
    "deletable": true,
    "editable": true
   },
   "outputs": [],
   "source": [
    "new_images = None\n",
    "for image_fname in os.listdir(folder_name):\n",
    "    temp_img = cv2.imread(folder_name+image_fname)[:,:,[2,1,0]]\n",
    "    temp_img = cv2.resize(temp_img, (32, 32))\n",
    "    temp_img = temp_img.reshape((1,temp_img.shape[0],temp_img.shape[1],temp_img.shape[2]))\n",
    "    if new_images is None:\n",
    "        new_images = temp_img\n",
    "    else:\n",
    "        new_images = np.concatenate((new_images,temp_img))"
   ]
  },
  {
   "cell_type": "code",
   "execution_count": 48,
   "metadata": {
    "collapsed": false,
    "deletable": true,
    "editable": true
   },
   "outputs": [
    {
     "data": {
      "text/plain": [
       "(8, 32, 32, 3)"
      ]
     },
     "execution_count": 48,
     "metadata": {},
     "output_type": "execute_result"
    }
   ],
   "source": [
    "new_images.shape"
   ]
  },
  {
   "cell_type": "code",
   "execution_count": 49,
   "metadata": {
    "collapsed": false,
    "deletable": true,
    "editable": true
   },
   "outputs": [
    {
     "data": {
      "image/png": "[encoded data removed]",
      "text/plain": [
       "<matplotlib.figure.Figure at 0x7fbc8c64f668>"
      ]
     },
     "metadata": {},
     "output_type": "display_data"
    }
   ],
   "source": [
    "for fig_i,img in enumerate(new_images):\n",
    "    plt.subplot(3,3,int(fig_i)+1)\n",
    "    plt.imshow(img)\n",
    "    \n",
    "plt.subplots_adjust(top=0.92, bottom=0.08, left=0.10, right=0.7, hspace=0.8, wspace=0.15)\n",
    "plt.show()"
   ]
  },
  {
   "cell_type": "markdown",
   "metadata": {
    "deletable": true,
    "editable": true
   },
   "source": [
    "### Predict the Sign Type for Each Image"
   ]
  },
  {
   "cell_type": "code",
   "execution_count": 60,
   "metadata": {
    "collapsed": true,
    "deletable": true,
    "editable": true
   },
   "outputs": [],
   "source": [
    "new_images_normed = normalize(new_images)"
   ]
  },
  {
   "cell_type": "code",
   "execution_count": 61,
   "metadata": {
    "collapsed": false,
    "deletable": true,
    "editable": true
   },
   "outputs": [],
   "source": [
    "with tf.Session() as sess:\n",
    "    saver.restore(sess, tf.train.latest_checkpoint('.'))\n",
    "    test_accuracy = sess.run(tf.nn.softmax(logits), feed_dict={x: new_images_normed, keep_prob: 1.})"
   ]
  },
  {
   "cell_type": "code",
   "execution_count": 62,
   "metadata": {
    "collapsed": false,
    "deletable": true,
    "editable": true
   },
   "outputs": [
    {
     "data": {
      "text/plain": [
       "(8, 43)"
      ]
     },
     "execution_count": 62,
     "metadata": {},
     "output_type": "execute_result"
    }
   ],
   "source": [
    "test_accuracy.shape"
   ]
  },
  {
   "cell_type": "markdown",
   "metadata": {
    "deletable": true,
    "editable": true
   },
   "source": [
    "### Analyze Performance"
   ]
  },
  {
   "cell_type": "code",
   "execution_count": 63,
   "metadata": {
    "collapsed": false,
    "deletable": true,
    "editable": true
   },
   "outputs": [
    {
     "data": {
      "text/plain": [
       "<matplotlib.image.AxesImage at 0x7fbd3e96d550>"
      ]
     },
     "execution_count": 63,
     "metadata": {},
     "output_type": "execute_result"
    },
    {
     "data": {
      "image/png": "[encoded data removed]",
      "text/plain": [
       "<matplotlib.figure.Figure at 0x7fbd50973518>"
      ]
     },
     "metadata": {},
     "output_type": "display_data"
    }
   ],
   "source": [
    "plt.imshow(new_images[0])"
   ]
  },
  {
   "cell_type": "code",
   "execution_count": 64,
   "metadata": {
    "collapsed": false,
    "deletable": true,
    "editable": true
   },
   "outputs": [],
   "source": [
    "test_accuracy_val = test_accuracy.argmax(axis=1)"
   ]
  },
  {
   "cell_type": "code",
   "execution_count": 65,
   "metadata": {
    "collapsed": false,
    "deletable": true,
    "editable": true
   },
   "outputs": [
    {
     "data": {
      "image/png": "[encoded data removed]",
      "text/plain": [
       "<matplotlib.figure.Figure at 0x7fbd3e905080>"
      ]
     },
     "metadata": {},
     "output_type": "display_data"
    }
   ],
   "source": [
    "for fig_i,img in enumerate(new_images):\n",
    "    plt.subplot(3,3,int(fig_i)+1)\n",
    "    plt.imshow(img)\n",
    "    plt.title(sign_names.loc[test_accuracy_val[fig_i],'SignName'])\n",
    "    \n",
    "plt.subplots_adjust(top=0.92, bottom=0.08, left=0.10, right=0.7, hspace=0.8, wspace=0.15)\n",
    "plt.show()"
   ]
  },
  {
   "cell_type": "markdown",
   "metadata": {
    "deletable": true,
    "editable": true
   },
   "source": [
    "### Output Top 5 Softmax Probabilities For Each Image Found on the Web"
   ]
  },
  {
   "cell_type": "markdown",
   "metadata": {
    "deletable": true,
    "editable": true
   },
   "source": [
    "For each of the new images, print out the model's softmax probabilities to show the **certainty** of the model's predictions (limit the output to the top 5 probabilities for each image). [`tf.nn.top_k`](https://www.tensorflow.org/versions/r0.12/api_docs/python/nn.html#top_k) could prove helpful here. \n",
    "\n",
    "The example below demonstrates how tf.nn.top_k can be used to find the top k predictions for each image.\n",
    "\n",
    "`tf.nn.top_k` will return the values and indices (class ids) of the top k predictions. So if k=3, for each sign, it'll return the 3 largest probabilities (out of a possible 43) and the correspoding class ids.\n",
    "\n",
    "Take this numpy array as an example. The values in the array represent predictions. The array contains softmax probabilities for five candidate images with six possible classes. `tk.nn.top_k` is used to choose the three classes with the highest probability:\n",
    "\n",
    "```\n",
    "# (5, 6) array\n",
    "a = np.array([[ 0.24879643,  0.07032244,  0.12641572,  0.34763842,  0.07893497,\n",
    "         0.12789202],\n",
    "       [ 0.28086119,  0.27569815,  0.08594638,  0.0178669 ,  0.18063401,\n",
    "         0.15899337],\n",
    "       [ 0.26076848,  0.23664738,  0.08020603,  0.07001922,  0.1134371 ,\n",
    "         0.23892179],\n",
    "       [ 0.11943333,  0.29198961,  0.02605103,  0.26234032,  0.1351348 ,\n",
    "         0.16505091],\n",
    "       [ 0.09561176,  0.34396535,  0.0643941 ,  0.16240774,  0.24206137,\n",
    "         0.09155967]])\n",
    "```\n",
    "\n",
    "Running it through `sess.run(tf.nn.top_k(tf.constant(a), k=3))` produces:\n",
    "\n",
    "```\n",
    "TopKV2(values=array([[ 0.34763842,  0.24879643,  0.12789202],\n",
    "       [ 0.28086119,  0.27569815,  0.18063401],\n",
    "       [ 0.26076848,  0.23892179,  0.23664738],\n",
    "       [ 0.29198961,  0.26234032,  0.16505091],\n",
    "       [ 0.34396535,  0.24206137,  0.16240774]]), indices=array([[3, 0, 5],\n",
    "       [0, 1, 4],\n",
    "       [0, 5, 1],\n",
    "       [1, 3, 5],\n",
    "       [1, 4, 3]], dtype=int32))\n",
    "```\n",
    "\n",
    "Looking just at the first row we get `[ 0.34763842,  0.24879643,  0.12789202]`, you can confirm these are the 3 largest probabilities in `a`. You'll also notice `[3, 0, 5]` are the corresponding indices."
   ]
  },
  {
   "cell_type": "code",
   "execution_count": 66,
   "metadata": {
    "collapsed": true,
    "deletable": true,
    "editable": true
   },
   "outputs": [],
   "source": [
    "with tf.Session() as sess:\n",
    "    saver.restore(sess, tf.train.latest_checkpoint('.'))\n",
    "    new_predictions = sess.run(tf.nn.top_k(tf.nn.softmax(logits),k=3), feed_dict={x: new_images_normed, keep_prob: 1.0})"
   ]
  },
  {
   "cell_type": "code",
   "execution_count": 67,
   "metadata": {
    "collapsed": false,
    "deletable": true,
    "editable": true
   },
   "outputs": [
    {
     "data": {
      "text/plain": [
       "array([[  1.00000000e+00,   4.18240436e-28,   3.84958825e-28],\n",
       "       [  1.00000000e+00,   2.12958917e-09,   2.59434455e-13],\n",
       "       [  6.18885219e-01,   2.64492661e-01,   8.30425322e-02],\n",
       "       [  9.99933243e-01,   6.67681379e-05,   7.65926789e-09],\n",
       "       [  9.09500599e-01,   8.96496773e-02,   8.24227289e-04],\n",
       "       [  1.00000000e+00,   1.05073068e-12,   3.86456973e-19],\n",
       "       [  9.99943495e-01,   5.64344955e-05,   2.55622705e-08],\n",
       "       [  9.34308767e-01,   6.41870052e-02,   9.24456748e-04]], dtype=float32)"
      ]
     },
     "execution_count": 67,
     "metadata": {},
     "output_type": "execute_result"
    }
   ],
   "source": [
    "new_predictions.values"
   ]
  },
  {
   "cell_type": "code",
   "execution_count": 68,
   "metadata": {
    "collapsed": false,
    "deletable": true,
    "editable": true
   },
   "outputs": [
    {
     "data": {
      "text/plain": [
       "array([[12, 32, 14],\n",
       "       [13,  3, 28],\n",
       "       [36, 35, 40],\n",
       "       [17,  9, 13],\n",
       "       [22, 20, 25],\n",
       "       [26, 18, 21],\n",
       "       [ 1,  4,  0],\n",
       "       [ 2, 31,  1]], dtype=int32)"
      ]
     },
     "execution_count": 68,
     "metadata": {},
     "output_type": "execute_result"
    }
   ],
   "source": [
    "new_predictions.indices"
   ]
  },
  {
   "cell_type": "code",
   "execution_count": null,
   "metadata": {
    "collapsed": true,
    "deletable": true,
    "editable": true
   },
   "outputs": [],
   "source": []
  }
 ],
 "metadata": {
  "anaconda-cloud": {},
  "kernelspec": {
   "display_name": "Python 3",
   "language": "python",
   "name": "python3"
  },
  "language_info": {
   "codemirror_mode": {
    "name": "ipython",
    "version": 3
   },
   "file_extension": ".py",
   "mimetype": "text/x-python",
   "name": "python",
   "nbconvert_exporter": "python",
   "pygments_lexer": "ipython3",
   "version": "3.5.2"
  },
  "widgets": {
   "state": {},
   "version": "1.1.2"
  }
 },
 "nbformat": 4,
 "nbformat_minor": 1
}
